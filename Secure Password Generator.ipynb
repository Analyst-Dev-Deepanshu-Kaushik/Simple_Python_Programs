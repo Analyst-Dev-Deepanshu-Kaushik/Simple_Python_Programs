{
 "cells": [
  {
   "cell_type": "markdown",
   "id": "361949a1-5f49-43e2-a0c8-2509872f7714",
   "metadata": {},
   "source": [
    "## <span style=\"color:brown\"><center> Strong Password Creator with Enhanced Security </center></span>"
   ]
  },
  {
   "cell_type": "code",
   "execution_count": 1,
   "id": "282f2fe4-6e6e-41ba-9e00-4b3754b1551a",
   "metadata": {},
   "outputs": [
    {
     "name": "stdout",
     "output_type": "stream",
     "text": [
      "2K'd?mN;5?\n"
     ]
    }
   ],
   "source": [
    "import secrets  # For generating secure random choices\n",
    "import string   # To get letters, digits, and special characters\n",
    "\n",
    "def create_secure_password(password_length=10):  # Function to create a secure password with a default length of 10 characters\n",
    "    # Create a pool of possible characters: letters, digits, and special characters\n",
    "    alphabet = string.ascii_letters + string.digits + string.punctuation\n",
    "    \n",
    "    while True:  # Infinite loop to repeatedly generate passwords until the conditions are met\n",
    "        # Generate a password by picking random characters from the pool\n",
    "        password = ''.join(secrets.choice(alphabet) for _ in range(password_length))\n",
    "\n",
    "        # Check if the password has at least one special char and two digits\n",
    "        if any(character in string.punctuation for character in password) and sum(character.isdigit() for character in password) >= 2:\n",
    "            return password  # Return the strong password once conditions are met\n",
    "\n",
    "if __name__ == '__main__':  # Entry point for script execution\n",
    "    print(create_secure_password())  # Print the generated password"
   ]
  }
 ],
 "metadata": {
  "kernelspec": {
   "display_name": "Python 3 (ipykernel)",
   "language": "python",
   "name": "python3"
  },
  "language_info": {
   "codemirror_mode": {
    "name": "ipython",
    "version": 3
   },
   "file_extension": ".py",
   "mimetype": "text/x-python",
   "name": "python",
   "nbconvert_exporter": "python",
   "pygments_lexer": "ipython3",
   "version": "3.12.6"
  }
 },
 "nbformat": 4,
 "nbformat_minor": 5
}
