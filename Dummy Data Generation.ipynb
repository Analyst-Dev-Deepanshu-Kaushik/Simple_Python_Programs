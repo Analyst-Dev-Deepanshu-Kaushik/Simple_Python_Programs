{
 "cells": [
  {
   "cell_type": "markdown",
   "id": "d774963d-53a2-43e3-b829-4d5891e6f163",
   "metadata": {},
   "source": [
    "## <span style=\"color:brown\"><center> Dummy Data Generation Program </center></span>"
   ]
  },
  {
   "cell_type": "markdown",
   "id": "7be1d1ea-6bb2-4b1f-be57-409de614af92",
   "metadata": {},
   "source": [
    "#### Install the Faker library using pip"
   ]
  },
  {
   "cell_type": "code",
   "execution_count": null,
   "id": "9843b9f0-b8c7-43bc-bda2-3e1cb4882224",
   "metadata": {
    "tags": []
   },
   "outputs": [],
   "source": [
    "pip install Faker"
   ]
  },
  {
   "cell_type": "markdown",
   "id": "5bebf05c-df9a-4adf-8e43-5017eef3460d",
   "metadata": {},
   "source": [
    "#### Import the Faker module form the library"
   ]
  },
  {
   "cell_type": "code",
   "execution_count": 1,
   "id": "17812814-ede2-4b72-8f32-8324aed83b2b",
   "metadata": {
    "tags": []
   },
   "outputs": [],
   "source": [
    "from faker import Faker"
   ]
  },
  {
   "cell_type": "markdown",
   "id": "6ba491c3-f57f-4bdb-bb77-07cc30ee3fa8",
   "metadata": {},
   "source": [
    "#### Create an instances of the Faker class to generate dummy data with default locale (en_US)"
   ]
  },
  {
   "cell_type": "code",
   "execution_count": 2,
   "id": "d1cff9cb-ab4f-47bb-a755-4b4f6b2cec11",
   "metadata": {
    "tags": []
   },
   "outputs": [],
   "source": [
    "dummy = Faker()"
   ]
  },
  {
   "cell_type": "markdown",
   "id": "b68aca1a-a8d5-4627-b2c0-e814219b8a29",
   "metadata": {},
   "source": [
    "#### Display randomly generated data including name, address, country, and more using the dummmy instance"
   ]
  },
  {
   "cell_type": "code",
   "execution_count": 3,
   "id": "9bcfe4a4-21fb-4806-9579-f2da0d25a5b8",
   "metadata": {
    "tags": []
   },
   "outputs": [
    {
     "name": "stdout",
     "output_type": "stream",
     "text": [
      "William Terry\n",
      "5125 Stephens Square\n",
      "Lindseyview, ND 80308\n",
      "Lithuania\n",
      "+1-699-908-9592\n",
      "Outdoor activities/education manager\n",
      "Guess author level set part. Deal common director arm story until.\n",
      "Simply girl each ready. Figure contain case method identify prevent rise.\n"
     ]
    }
   ],
   "source": [
    "print(dummy.name())           # print dummy name\n",
    "print(dummy.address())        # print dummy address\n",
    "print(dummy.country())        # print dummy country\n",
    "print(dummy.phone_number())   # print dummy phone number\n",
    "print(dummy.job())            # print dummy job profile\n",
    "print(dummy.text())           # print dummy random text"
   ]
  },
  {
   "cell_type": "markdown",
   "id": "62da6d38-8454-437b-a21b-70f8746e9e6c",
   "metadata": {},
   "source": [
    "#### Create Faker instance with multiple locales (Spanish and English) and display the generated data"
   ]
  },
  {
   "cell_type": "code",
   "execution_count": 4,
   "id": "4d787e38-b1b9-4dcf-a77e-124331c7af4e",
   "metadata": {
    "tags": []
   },
   "outputs": [
    {
     "name": "stdout",
     "output_type": "stream",
     "text": [
      "Raúl  Verdejo\n",
      "Frank  Lucas\n",
      "Gregory  Rivas\n",
      "Linda  Ramirez\n",
      "Leslie  Hernandez\n"
     ]
    }
   ],
   "source": [
    "# Print localize fake data\n",
    "fake = Faker([\"es_ES\",\"en_US\"])\n",
    "for _ in range(5):\n",
    "    print(fake.unique.first_name(),end=\"  \")\n",
    "    print(fake.unique.last_name())"
   ]
  },
  {
   "cell_type": "markdown",
   "id": "5b42d5b8-73bf-44ec-a299-19a06bc0bbe3",
   "metadata": {},
   "source": [
    "#### Generate and display a localized fake profile"
   ]
  },
  {
   "cell_type": "code",
   "execution_count": 5,
   "id": "58636f1f-aac3-45d5-a209-c453c0489556",
   "metadata": {
    "tags": []
   },
   "outputs": [
    {
     "data": {
      "text/plain": [
       "{'job': 'Modelo de moda, arte y publicidad',\n",
       " 'company': 'Hnos Bautista S.A.',\n",
       " 'ssn': '639-66-1625',\n",
       " 'residence': 'Pasaje José Manuel Fabregat 59\\nÁvila, 05949',\n",
       " 'current_location': (Decimal('-24.046985'), Decimal('-50.912478')),\n",
       " 'blood_group': 'AB-',\n",
       " 'website': ['http://casanovas.net/'],\n",
       " 'username': 'guadalupe70',\n",
       " 'name': 'Cintia del Carrillo',\n",
       " 'sex': 'F',\n",
       " 'address': 'Rambla de Juan Antonio Méndez 80\\nGirona, 28572',\n",
       " 'mail': 'ainoaquiros@gmail.com',\n",
       " 'birthdate': datetime.date(1993, 11, 9)}"
      ]
     },
     "execution_count": 5,
     "metadata": {},
     "output_type": "execute_result"
    }
   ],
   "source": [
    "fake = Faker(\"es_ES\")\n",
    "fake.profile()"
   ]
  },
  {
   "cell_type": "markdown",
   "id": "43f5dd23-9fa8-498f-84f2-e880e4cb642b",
   "metadata": {},
   "source": [
    "### Create a Dataframe with Dummy data"
   ]
  },
  {
   "cell_type": "markdown",
   "id": "bfc860aa-4c43-4b89-95f4-1ded7ba4841c",
   "metadata": {},
   "source": [
    "#### Import Pandas for Dataframe"
   ]
  },
  {
   "cell_type": "code",
   "execution_count": 6,
   "id": "bd4dc234-e201-4bb9-bd21-3c19f47109e7",
   "metadata": {
    "tags": []
   },
   "outputs": [],
   "source": [
    "import pandas as pd"
   ]
  },
  {
   "cell_type": "markdown",
   "id": "8668cc4c-1ae0-494e-ba2a-52bf91720277",
   "metadata": {},
   "source": [
    "#### Create a dataframe with dummy details using the Profile function of the Faker Library"
   ]
  },
  {
   "cell_type": "code",
   "execution_count": 7,
   "id": "da4bab2d-422d-433f-bc30-3904ca331419",
   "metadata": {
    "tags": []
   },
   "outputs": [],
   "source": [
    "data = [dummy.profile() for i in range(500)]\n",
    "dataframe = pd.DataFrame(data)"
   ]
  },
  {
   "cell_type": "markdown",
   "id": "4e154ad2-d3e8-4c3b-a4e2-da12f13f30bd",
   "metadata": {},
   "source": [
    "#### Display the dataframe containing the dummy profile details"
   ]
  },
  {
   "cell_type": "code",
   "execution_count": 8,
   "id": "9a4ff271-0206-4654-aeff-8a79f4abfd72",
   "metadata": {
    "tags": []
   },
   "outputs": [
    {
     "data": {
      "text/html": [
       "<div>\n",
       "<style scoped>\n",
       "    .dataframe tbody tr th:only-of-type {\n",
       "        vertical-align: middle;\n",
       "    }\n",
       "\n",
       "    .dataframe tbody tr th {\n",
       "        vertical-align: top;\n",
       "    }\n",
       "\n",
       "    .dataframe thead th {\n",
       "        text-align: right;\n",
       "    }\n",
       "</style>\n",
       "<table border=\"1\" class=\"dataframe\">\n",
       "  <thead>\n",
       "    <tr style=\"text-align: right;\">\n",
       "      <th></th>\n",
       "      <th>job</th>\n",
       "      <th>company</th>\n",
       "      <th>ssn</th>\n",
       "      <th>residence</th>\n",
       "      <th>current_location</th>\n",
       "      <th>blood_group</th>\n",
       "      <th>website</th>\n",
       "      <th>username</th>\n",
       "      <th>name</th>\n",
       "      <th>sex</th>\n",
       "      <th>address</th>\n",
       "      <th>mail</th>\n",
       "      <th>birthdate</th>\n",
       "    </tr>\n",
       "  </thead>\n",
       "  <tbody>\n",
       "    <tr>\n",
       "      <th>0</th>\n",
       "      <td>Administrator, arts</td>\n",
       "      <td>Reed-Mitchell</td>\n",
       "      <td>128-46-3364</td>\n",
       "      <td>3422 Porter Keys\\nWilsonfort, NV 37672</td>\n",
       "      <td>(66.571082, -55.254789)</td>\n",
       "      <td>O+</td>\n",
       "      <td>[https://smith-hill.net/, http://franco-miller...</td>\n",
       "      <td>regina96</td>\n",
       "      <td>Christopher Murphy</td>\n",
       "      <td>M</td>\n",
       "      <td>99616 Martin Meadow\\nSouth Matthewberg, LA 78594</td>\n",
       "      <td>johnsonkyle@gmail.com</td>\n",
       "      <td>1967-06-02</td>\n",
       "    </tr>\n",
       "    <tr>\n",
       "      <th>1</th>\n",
       "      <td>Local government officer</td>\n",
       "      <td>Lee Group</td>\n",
       "      <td>809-58-7794</td>\n",
       "      <td>31141 King Cape Suite 502\\nSingletonburgh, NH ...</td>\n",
       "      <td>(80.1761625, -108.077542)</td>\n",
       "      <td>O-</td>\n",
       "      <td>[https://www.jones-guerrero.org/, https://www....</td>\n",
       "      <td>thomaspotter</td>\n",
       "      <td>Michele Hernandez</td>\n",
       "      <td>F</td>\n",
       "      <td>9994 Waters Locks Suite 703\\nNew Karenshire, D...</td>\n",
       "      <td>robertsonjohn@gmail.com</td>\n",
       "      <td>2011-03-10</td>\n",
       "    </tr>\n",
       "    <tr>\n",
       "      <th>2</th>\n",
       "      <td>Careers information officer</td>\n",
       "      <td>Choi-Dunn</td>\n",
       "      <td>652-27-2804</td>\n",
       "      <td>638 Michael Underpass Suite 538\\nSouth Michael...</td>\n",
       "      <td>(64.153868, -1.591646)</td>\n",
       "      <td>B-</td>\n",
       "      <td>[http://www.bradford.com/, http://www.mitchell...</td>\n",
       "      <td>susanparrish</td>\n",
       "      <td>Lauren Phillips</td>\n",
       "      <td>F</td>\n",
       "      <td>47465 Mendoza Fort Apt. 939\\nPort Kathleenside...</td>\n",
       "      <td>andreajones@gmail.com</td>\n",
       "      <td>1919-07-25</td>\n",
       "    </tr>\n",
       "    <tr>\n",
       "      <th>3</th>\n",
       "      <td>Regulatory affairs officer</td>\n",
       "      <td>Wade, Shannon and Kelley</td>\n",
       "      <td>617-70-4474</td>\n",
       "      <td>99146 Mcguire Crossing\\nWest Andrewfort, UT 41436</td>\n",
       "      <td>(-87.6339105, 28.166146)</td>\n",
       "      <td>A+</td>\n",
       "      <td>[http://www.stewart-bishop.com/, http://perez-...</td>\n",
       "      <td>qreyes</td>\n",
       "      <td>Jeremy Silva</td>\n",
       "      <td>M</td>\n",
       "      <td>1725 Paul Route\\nSouth Melissa, AZ 23684</td>\n",
       "      <td>timothy54@hotmail.com</td>\n",
       "      <td>1937-06-15</td>\n",
       "    </tr>\n",
       "    <tr>\n",
       "      <th>4</th>\n",
       "      <td>Customer service manager</td>\n",
       "      <td>Benson-Obrien</td>\n",
       "      <td>697-02-7538</td>\n",
       "      <td>Unit 5670 Box 0647\\nDPO AA 95659</td>\n",
       "      <td>(-0.2899375, 88.866253)</td>\n",
       "      <td>O-</td>\n",
       "      <td>[http://www.watson.net/]</td>\n",
       "      <td>julian19</td>\n",
       "      <td>Ernest Garcia</td>\n",
       "      <td>M</td>\n",
       "      <td>22039 Rodriguez Islands Suite 543\\nWest Alexis...</td>\n",
       "      <td>zacharyhayes@gmail.com</td>\n",
       "      <td>2003-12-29</td>\n",
       "    </tr>\n",
       "    <tr>\n",
       "      <th>...</th>\n",
       "      <td>...</td>\n",
       "      <td>...</td>\n",
       "      <td>...</td>\n",
       "      <td>...</td>\n",
       "      <td>...</td>\n",
       "      <td>...</td>\n",
       "      <td>...</td>\n",
       "      <td>...</td>\n",
       "      <td>...</td>\n",
       "      <td>...</td>\n",
       "      <td>...</td>\n",
       "      <td>...</td>\n",
       "      <td>...</td>\n",
       "    </tr>\n",
       "    <tr>\n",
       "      <th>495</th>\n",
       "      <td>Sports coach</td>\n",
       "      <td>Griffith-Fuller</td>\n",
       "      <td>062-25-6333</td>\n",
       "      <td>2156 Sanford Knoll Apt. 305\\nLongburgh, MT 00825</td>\n",
       "      <td>(-32.5673615, -158.025444)</td>\n",
       "      <td>B-</td>\n",
       "      <td>[http://www.bryan.net/, https://www.hatfield.c...</td>\n",
       "      <td>valeriebaker</td>\n",
       "      <td>Sarah Lee</td>\n",
       "      <td>F</td>\n",
       "      <td>13723 Pineda Parkways\\nPort Thomas, NE 98295</td>\n",
       "      <td>harriskimberly@gmail.com</td>\n",
       "      <td>2017-05-22</td>\n",
       "    </tr>\n",
       "    <tr>\n",
       "      <th>496</th>\n",
       "      <td>Freight forwarder</td>\n",
       "      <td>Santiago-Guzman</td>\n",
       "      <td>777-88-1718</td>\n",
       "      <td>PSC 2772, Box 8069\\nAPO AA 08679</td>\n",
       "      <td>(4.3464345, -129.925436)</td>\n",
       "      <td>A+</td>\n",
       "      <td>[https://klein.com/, http://www.brown.com/, ht...</td>\n",
       "      <td>deborah72</td>\n",
       "      <td>Tina Miller</td>\n",
       "      <td>F</td>\n",
       "      <td>4301 Jackson Passage Apt. 411\\nTorreschester, ...</td>\n",
       "      <td>ramirezdarrell@yahoo.com</td>\n",
       "      <td>1976-12-05</td>\n",
       "    </tr>\n",
       "    <tr>\n",
       "      <th>497</th>\n",
       "      <td>Bookseller</td>\n",
       "      <td>Martin-Hurst</td>\n",
       "      <td>845-67-5620</td>\n",
       "      <td>3826 Davis Neck Suite 318\\nEast Shaneville, MP...</td>\n",
       "      <td>(65.1948205, 159.871497)</td>\n",
       "      <td>B-</td>\n",
       "      <td>[http://williams.com/, https://www.zhang.com/,...</td>\n",
       "      <td>elizabethswanson</td>\n",
       "      <td>Johnny Sosa</td>\n",
       "      <td>M</td>\n",
       "      <td>1202 Carl Islands Suite 920\\nLake Kelly, TN 69110</td>\n",
       "      <td>agentry@hotmail.com</td>\n",
       "      <td>1929-12-15</td>\n",
       "    </tr>\n",
       "    <tr>\n",
       "      <th>498</th>\n",
       "      <td>Social researcher</td>\n",
       "      <td>Berg-Dickerson</td>\n",
       "      <td>093-17-1784</td>\n",
       "      <td>91108 Rebecca Manors\\nStephenbury, NV 94043</td>\n",
       "      <td>(-79.9260275, -143.561396)</td>\n",
       "      <td>B+</td>\n",
       "      <td>[http://robbins.com/, https://www.jones.info/,...</td>\n",
       "      <td>christopher08</td>\n",
       "      <td>Patrick Wolf</td>\n",
       "      <td>M</td>\n",
       "      <td>0995 Jennifer Plaza Suite 552\\nEast Erica, MA ...</td>\n",
       "      <td>georgerichardson@gmail.com</td>\n",
       "      <td>1975-12-30</td>\n",
       "    </tr>\n",
       "    <tr>\n",
       "      <th>499</th>\n",
       "      <td>Dentist</td>\n",
       "      <td>Cameron, Sullivan and Stewart</td>\n",
       "      <td>832-61-2922</td>\n",
       "      <td>3847 April Spring\\nSouth Maryside, GU 46869</td>\n",
       "      <td>(65.4757855, 76.436490)</td>\n",
       "      <td>B+</td>\n",
       "      <td>[https://www.walters.com/]</td>\n",
       "      <td>elliottbradley</td>\n",
       "      <td>Andres Hoffman</td>\n",
       "      <td>M</td>\n",
       "      <td>159 Jennings Heights Apt. 840\\nNorth Benjamint...</td>\n",
       "      <td>aimeegill@gmail.com</td>\n",
       "      <td>1949-09-23</td>\n",
       "    </tr>\n",
       "  </tbody>\n",
       "</table>\n",
       "<p>500 rows × 13 columns</p>\n",
       "</div>"
      ],
      "text/plain": [
       "                             job                        company          ssn  \\\n",
       "0            Administrator, arts                  Reed-Mitchell  128-46-3364   \n",
       "1       Local government officer                      Lee Group  809-58-7794   \n",
       "2    Careers information officer                      Choi-Dunn  652-27-2804   \n",
       "3     Regulatory affairs officer       Wade, Shannon and Kelley  617-70-4474   \n",
       "4       Customer service manager                  Benson-Obrien  697-02-7538   \n",
       "..                           ...                            ...          ...   \n",
       "495                 Sports coach                Griffith-Fuller  062-25-6333   \n",
       "496            Freight forwarder                Santiago-Guzman  777-88-1718   \n",
       "497                   Bookseller                   Martin-Hurst  845-67-5620   \n",
       "498            Social researcher                 Berg-Dickerson  093-17-1784   \n",
       "499                      Dentist  Cameron, Sullivan and Stewart  832-61-2922   \n",
       "\n",
       "                                             residence  \\\n",
       "0               3422 Porter Keys\\nWilsonfort, NV 37672   \n",
       "1    31141 King Cape Suite 502\\nSingletonburgh, NH ...   \n",
       "2    638 Michael Underpass Suite 538\\nSouth Michael...   \n",
       "3    99146 Mcguire Crossing\\nWest Andrewfort, UT 41436   \n",
       "4                     Unit 5670 Box 0647\\nDPO AA 95659   \n",
       "..                                                 ...   \n",
       "495   2156 Sanford Knoll Apt. 305\\nLongburgh, MT 00825   \n",
       "496                   PSC 2772, Box 8069\\nAPO AA 08679   \n",
       "497  3826 Davis Neck Suite 318\\nEast Shaneville, MP...   \n",
       "498        91108 Rebecca Manors\\nStephenbury, NV 94043   \n",
       "499        3847 April Spring\\nSouth Maryside, GU 46869   \n",
       "\n",
       "               current_location blood_group  \\\n",
       "0       (66.571082, -55.254789)          O+   \n",
       "1     (80.1761625, -108.077542)          O-   \n",
       "2        (64.153868, -1.591646)          B-   \n",
       "3      (-87.6339105, 28.166146)          A+   \n",
       "4       (-0.2899375, 88.866253)          O-   \n",
       "..                          ...         ...   \n",
       "495  (-32.5673615, -158.025444)          B-   \n",
       "496    (4.3464345, -129.925436)          A+   \n",
       "497    (65.1948205, 159.871497)          B-   \n",
       "498  (-79.9260275, -143.561396)          B+   \n",
       "499     (65.4757855, 76.436490)          B+   \n",
       "\n",
       "                                               website          username  \\\n",
       "0    [https://smith-hill.net/, http://franco-miller...          regina96   \n",
       "1    [https://www.jones-guerrero.org/, https://www....      thomaspotter   \n",
       "2    [http://www.bradford.com/, http://www.mitchell...      susanparrish   \n",
       "3    [http://www.stewart-bishop.com/, http://perez-...            qreyes   \n",
       "4                             [http://www.watson.net/]          julian19   \n",
       "..                                                 ...               ...   \n",
       "495  [http://www.bryan.net/, https://www.hatfield.c...      valeriebaker   \n",
       "496  [https://klein.com/, http://www.brown.com/, ht...         deborah72   \n",
       "497  [http://williams.com/, https://www.zhang.com/,...  elizabethswanson   \n",
       "498  [http://robbins.com/, https://www.jones.info/,...     christopher08   \n",
       "499                         [https://www.walters.com/]    elliottbradley   \n",
       "\n",
       "                   name sex  \\\n",
       "0    Christopher Murphy   M   \n",
       "1     Michele Hernandez   F   \n",
       "2       Lauren Phillips   F   \n",
       "3          Jeremy Silva   M   \n",
       "4         Ernest Garcia   M   \n",
       "..                  ...  ..   \n",
       "495           Sarah Lee   F   \n",
       "496         Tina Miller   F   \n",
       "497         Johnny Sosa   M   \n",
       "498        Patrick Wolf   M   \n",
       "499      Andres Hoffman   M   \n",
       "\n",
       "                                               address  \\\n",
       "0     99616 Martin Meadow\\nSouth Matthewberg, LA 78594   \n",
       "1    9994 Waters Locks Suite 703\\nNew Karenshire, D...   \n",
       "2    47465 Mendoza Fort Apt. 939\\nPort Kathleenside...   \n",
       "3             1725 Paul Route\\nSouth Melissa, AZ 23684   \n",
       "4    22039 Rodriguez Islands Suite 543\\nWest Alexis...   \n",
       "..                                                 ...   \n",
       "495       13723 Pineda Parkways\\nPort Thomas, NE 98295   \n",
       "496  4301 Jackson Passage Apt. 411\\nTorreschester, ...   \n",
       "497  1202 Carl Islands Suite 920\\nLake Kelly, TN 69110   \n",
       "498  0995 Jennifer Plaza Suite 552\\nEast Erica, MA ...   \n",
       "499  159 Jennings Heights Apt. 840\\nNorth Benjamint...   \n",
       "\n",
       "                           mail   birthdate  \n",
       "0         johnsonkyle@gmail.com  1967-06-02  \n",
       "1       robertsonjohn@gmail.com  2011-03-10  \n",
       "2         andreajones@gmail.com  1919-07-25  \n",
       "3         timothy54@hotmail.com  1937-06-15  \n",
       "4        zacharyhayes@gmail.com  2003-12-29  \n",
       "..                          ...         ...  \n",
       "495    harriskimberly@gmail.com  2017-05-22  \n",
       "496    ramirezdarrell@yahoo.com  1976-12-05  \n",
       "497         agentry@hotmail.com  1929-12-15  \n",
       "498  georgerichardson@gmail.com  1975-12-30  \n",
       "499         aimeegill@gmail.com  1949-09-23  \n",
       "\n",
       "[500 rows x 13 columns]"
      ]
     },
     "execution_count": 8,
     "metadata": {},
     "output_type": "execute_result"
    }
   ],
   "source": [
    "dataframe"
   ]
  },
  {
   "cell_type": "markdown",
   "id": "3e09184d-d514-44d9-a7bf-d838d9db6dfa",
   "metadata": {},
   "source": [
    "#### Save this dataframe to an Excel file"
   ]
  },
  {
   "cell_type": "code",
   "execution_count": 9,
   "id": "083118cb-c51c-4a4a-afb7-b99571b118f7",
   "metadata": {
    "tags": []
   },
   "outputs": [],
   "source": [
    "dataframe.to_excel('dummydataset.xlsx',sheet_name=\"Sheet1\")"
   ]
  },
  {
   "cell_type": "code",
   "execution_count": null,
   "id": "cde8a225-e5c8-412c-9168-d289e1c63f85",
   "metadata": {},
   "outputs": [],
   "source": []
  }
 ],
 "metadata": {
  "kernelspec": {
   "display_name": "Python 3 (ipykernel)",
   "language": "python",
   "name": "python3"
  },
  "language_info": {
   "codemirror_mode": {
    "name": "ipython",
    "version": 3
   },
   "file_extension": ".py",
   "mimetype": "text/x-python",
   "name": "python",
   "nbconvert_exporter": "python",
   "pygments_lexer": "ipython3",
   "version": "3.12.6"
  }
 },
 "nbformat": 4,
 "nbformat_minor": 5
}
