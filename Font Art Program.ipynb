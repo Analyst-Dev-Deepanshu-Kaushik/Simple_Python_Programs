{
 "cells": [
  {
   "cell_type": "markdown",
   "id": "54b1807b-628d-4953-a9b0-a2ee98c0692a",
   "metadata": {},
   "source": [
    "## <span style=\"color:brown\"><center> Font Figures Program </center></span>"
   ]
  },
  {
   "cell_type": "markdown",
   "id": "c446b63c-9df7-441d-a637-128bb910da93",
   "metadata": {},
   "source": [
    "#### Install pyfiglet Module for Font figures"
   ]
  },
  {
   "cell_type": "code",
   "execution_count": null,
   "id": "6d499705-8104-4383-ad52-12f1fab28f93",
   "metadata": {},
   "outputs": [],
   "source": [
    "pip install pyfiglet"
   ]
  },
  {
   "cell_type": "markdown",
   "id": "22e49869-87c8-411d-872b-20bbdf1ca7a3",
   "metadata": {},
   "source": [
    "#### Import pyfiglet Module "
   ]
  },
  {
   "cell_type": "code",
   "execution_count": 1,
   "id": "e64ef1db-c409-47b6-8f8c-05446d9c46d1",
   "metadata": {
    "tags": []
   },
   "outputs": [],
   "source": [
    "import pyfiglet"
   ]
  },
  {
   "cell_type": "markdown",
   "id": "aa3228cc-7732-43e9-8eca-42a6a067cc75",
   "metadata": {},
   "source": [
    "#### Check the list of all available Fonts figures"
   ]
  },
  {
   "cell_type": "code",
   "execution_count": 2,
   "id": "cd5103bd-1b03-41cd-a92b-09abc28a85ad",
   "metadata": {},
   "outputs": [
    {
     "name": "stdout",
     "output_type": "stream",
     "text": [
      "['1943____', '1row', '3-d', '3d-ascii', '3d_diagonal', '3x5', '4max', '4x4_offr', '5lineoblique', '5x7', '5x8', '64f1____', '6x10', '6x9', 'acrobatic', 'advenger', 'alligator', 'alligator2', 'alpha', 'alphabet', 'amc_3_line', 'amc_3_liv1', 'amc_aaa01', 'amc_neko', 'amc_razor', 'amc_razor2', 'amc_slash', 'amc_slider', 'amc_thin', 'amc_tubes', 'amc_untitled', 'ansi_regular', 'ansi_shadow', 'aquaplan', 'arrows', 'ascii_new_roman', 'ascii___', 'asc_____', 'assalt_m', 'asslt__m', 'atc_gran', 'atc_____', 'avatar', 'a_zooloo', 'b1ff', 'banner', 'banner3-D', 'banner3', 'banner4', 'barbwire', 'basic', 'battlesh', 'battle_s', 'baz__bil', 'bear', 'beer_pub', 'bell', 'benjamin', 'big', 'bigchief', 'bigfig', 'big_money-ne', 'big_money-nw', 'big_money-se', 'big_money-sw', 'binary', 'block', 'blocks', 'blocky', 'bloody', 'bolger', 'braced', 'bright', 'brite', 'briteb', 'britebi', 'britei', 'broadway', 'broadway_kb', 'bubble', 'bubble_b', 'bubble__', 'bulbhead', 'b_m__200', 'c1______', 'c2______', 'calgphy2', 'caligraphy', 'calvin_s', 'cards', 'catwalk', 'caus_in_', 'char1___', 'char2___', 'char3___', 'char4___', 'charact1', 'charact2', 'charact3', 'charact4', 'charact5', 'charact6', 'characte', 'charset_', 'chartr', 'chartri', 'chiseled', 'chunky', 'clb6x10', 'clb8x10', 'clb8x8', 'cli8x8', 'clr4x6', 'clr5x10', 'clr5x6', 'clr5x8', 'clr6x10', 'clr6x6', 'clr6x8', 'clr7x10', 'clr7x8', 'clr8x10', 'clr8x8', 'coil_cop', 'coinstak', 'cola', 'colossal', 'computer', 'com_sen_', 'contessa', 'contrast', 'convoy__', 'cosmic', 'cosmike', 'cour', 'courb', 'courbi', 'couri', 'crawford', 'crawford2', 'crazy', 'cricket', 'cursive', 'cyberlarge', 'cybermedium', 'cybersmall', 'cygnet', 'c_ascii_', 'c_consen', 'danc4', 'dancing_font', 'dcs_bfmo', 'decimal', 'deep_str', 'defleppard', 'def_leppard', 'delta_corps_priest_1', 'demo_1__', 'demo_2__', 'demo_m__', 'devilish', 'diamond', 'diet_cola', 'digital', 'doh', 'doom', 'dos_rebel', 'dotmatrix', 'double', 'double_shorts', 'drpepper', 'druid___', 'dwhistled', 'd_dragon', 'ebbs_1__', 'ebbs_2__', 'eca_____', 'eftichess', 'eftifont', 'eftipiti', 'eftirobot', 'eftitalic', 'eftiwall', 'eftiwater', 'efti_robot', 'electronic', 'elite', 'epic', 'etcrvs__', 'e__fist_', 'f15_____', 'faces_of', 'fairligh', 'fair_mea', 'fantasy_', 'fbr12___', 'fbr1____', 'fbr2____', 'fbr_stri', 'fbr_tilt', 'fender', 'filter', 'finalass', 'fireing_', 'fire_font-k', 'fire_font-s', 'flipped', 'flower_power', 'flyn_sh', 'fourtops', 'fp1_____', 'fp2_____', 'fraktur', 'funky_dr', 'fun_face', 'fun_faces', 'future_1', 'future_2', 'future_3', 'future_4', 'future_5', 'future_6', 'future_7', 'future_8', 'fuzzy', 'gauntlet', 'georgi16', 'georgia11', 'ghost', 'ghost_bo', 'ghoulish', 'glenyn', 'goofy', 'gothic', 'gothic__', 'graceful', 'gradient', 'graffiti', 'grand_pr', 'greek', 'green_be', 'hades___', 'heart_left', 'heart_right', 'heavy_me', 'helv', 'helvb', 'helvbi', 'helvi', 'henry_3d', 'heroboti', 'hex', 'hieroglyphs', 'high_noo', 'hills___', 'hollywood', 'home_pak', 'horizontal_left', 'horizontal_right', 'house_of', 'hypa_bal', 'hyper___', 'icl-1900', 'impossible', 'inc_raw_', 'invita', 'isometric1', 'isometric2', 'isometric3', 'isometric4', 'italic', 'italics_', 'ivrit', 'jacky', 'jazmine', 'jerusalem', 'joust___', 'js_block_letters', 'js_bracket_letters', 'js_capital_curves', 'js_cursive', 'js_stick_letters', 'katakana', 'kban', 'keyboard', 'kgames_i', 'kik_star', 'knob', 'konto', 'konto_slant', 'krak_out', 'larry3d', 'lazy_jon', 'lcd', 'lean', 'letters', 'letterw3', 'letter_w', 'lexible_', 'lil_devil', 'line_blocks', 'linux', 'lockergnome', 'madrid', 'mad_nurs', 'magic_ma', 'marquee', 'master_o', 'maxfour', 'mayhem_d', 'mcg_____', 'merlin1', 'merlin2', 'mig_ally', 'mike', 'mini', 'mirror', 'mnemonic', 'modern__', 'modular', 'morse', 'morse2', 'moscow', 'mshebrew210', 'muzzle', 'nancyj-fancy', 'nancyj-improved', 'nancyj-underlined', 'nancyj', 'new_asci', 'nfi1____', 'nipples', 'notie_ca', 'npn_____', 'nscript', 'ntgreek', 'nvscript', 'o8', 'octal', 'odel_lak', 'ogre', 'ok_beer_', 'old_banner', 'os2', 'outrun__', 'pacos_pe', 'panther_', \"patorjk's_cheese\", 'patorjk-hex', 'pawn_ins', 'pawp', 'peaks', 'pebbles', 'pepper', 'phonix__', 'platoon2', 'platoon_', 'pod_____', 'poison', 'puffy', 'puzzle', 'pyramid', 'p_skateb', 'p_s_h_m_', 'r2-d2___', 'radical_', 'rad_phan', 'rad_____', 'rainbow_', 'rally_s2', 'rally_sp', 'rammstein', 'rampage_', 'rastan__', 'raw_recu', 'rci_____', 'rectangles', 'red_phoenix', 'relief', 'relief2', 'rev', 'ripper!_', 'road_rai', 'rockbox_', 'rok_____', 'roman', 'roman___', 'rot13', 'rotated', 'rounded', 'rowancap', 'rozzo', 'runic', 'runyc', 'sans', 'sansb', 'sansbi', 'sansi', 'santa_clara', 'sblood', 'sbook', 'sbookb', 'sbookbi', 'sbooki', 'script', 'script__', 'serifcap', 'shadow', 'shimrod', 'short', 'skateord', 'skateroc', 'skate_ro', 'sketch_s', 'slant', 'slant_relief', 'slide', 'slscript', 'sl_script', 'small', 'small_caps', 'small_poison', 'small_shadow', 'small_slant', 'smisome1', 'smkeyboard', 'smscript', 'smshadow', 'smslant', 'smtengwar', 'sm______', 'soft', 'space_op', 'spc_demo', 'speed', 'spliff', 'stacey', 'stampate', 'stampatello', 'standard', 'starwars', 'star_strips', 'star_war', 'stealth_', 'stellar', 'stencil1', 'stencil2', 'stforek', 'stick_letters', 'stop', 'straight', 'street_s', 'stronger_than_all', 'sub-zero', 'subteran', 'super_te', 'swamp_land', 'swan', 'sweet', 'tanja', 'tav1____', 'taxi____', 'tec1____', 'tecrvs__', 'tec_7000', 'tengwar', 'term', 'test1', 'the_edge', 'thick', 'thin', 'this', 'thorned', 'threepoint', 'ticks', 'ticksslant', 'tiles', 'times', 'timesofl', 'tinker-toy', 'ti_pan__', 'tomahawk', 'tombstone', 'top_duck', 'train', 'trashman', 'trek', 'triad_st', 'ts1_____', 'tsalagi', 'tsm_____', 'tsn_base', 'tty', 'ttyb', 'tubular', 'twin_cob', 'twisted', 'twopoint', 'type_set', 't__of_ap', 'ucf_fan_', 'ugalympi', 'unarmed_', 'univers', 'usaflag', 'usa_pq__', 'usa_____', 'utopia', 'utopiab', 'utopiabi', 'utopiai', 'varsity', 'vortron_', 'war_of_w', 'wavy', 'weird', 'wet_letter', 'whimsy', 'wow', 'xbrite', 'xbriteb', 'xbritebi', 'xbritei', 'xchartr', 'xchartri', 'xcour', 'xcourb', 'xcourbi', 'xcouri', 'xhelv', 'xhelvb', 'xhelvbi', 'xhelvi', 'xsans', 'xsansb', 'xsansbi', 'xsansi', 'xsbook', 'xsbookb', 'xsbookbi', 'xsbooki', 'xtimes', 'xtty', 'xttyb', 'yie-ar__', 'yie_ar_k', 'z-pilot_', 'zig_zag_', 'zone7___']\n"
     ]
    }
   ],
   "source": [
    "print(pyfiglet.FigletFont.getFonts())"
   ]
  },
  {
   "cell_type": "markdown",
   "id": "685a1cfe-c637-4116-aa48-dbb1f69e04e7",
   "metadata": {},
   "source": [
    "### Draw some Font figures"
   ]
  },
  {
   "cell_type": "markdown",
   "id": "9ff96b65-d08f-40ac-8f9a-105ee4f518b0",
   "metadata": {},
   "source": [
    "#### Draw By default Font figure   ---   1"
   ]
  },
  {
   "cell_type": "code",
   "execution_count": 3,
   "id": "7471b0b9-e9d8-4689-a17a-0855f68ff2b2",
   "metadata": {
    "tags": []
   },
   "outputs": [
    {
     "name": "stdout",
     "output_type": "stream",
     "text": [
      " ____        _   _                 \n",
      "|  _ \\ _   _| |_| |__   ___  _ __  \n",
      "| |_) | | | | __| '_ \\ / _ \\| '_ \\ \n",
      "|  __/| |_| | |_| | | | (_) | | | |\n",
      "|_|    \\__, |\\__|_| |_|\\___/|_| |_|\n",
      "       |___/                       \n",
      "\n"
     ]
    }
   ],
   "source": [
    "text1=pyfiglet.figlet_format('Python')\n",
    "print(text1)"
   ]
  },
  {
   "cell_type": "markdown",
   "id": "fd443e94-98b0-4063-ba29-2d15306c48e0",
   "metadata": {},
   "source": [
    "#### Draw font figure with different style --- 2"
   ]
  },
  {
   "cell_type": "code",
   "execution_count": 4,
   "id": "f10e0f85-6eeb-418b-88c5-3b54043a89c3",
   "metadata": {
    "tags": []
   },
   "outputs": [
    {
     "name": "stdout",
     "output_type": "stream",
     "text": [
      "       __                                 _       __ \n",
      "      / /___ __   ______ ________________(_)___  / /_\n",
      " __  / / __ `/ | / / __ `/ ___/ ___/ ___/ / __ \\/ __/\n",
      "/ /_/ / /_/ /| |/ / /_/ (__  ) /__/ /  / / /_/ / /_  \n",
      "\\____/\\__,_/ |___/\\__,_/____/\\___/_/  /_/ .___/\\__/  \n",
      "                                       /_/           \n",
      "\n"
     ]
    }
   ],
   "source": [
    "text2=pyfiglet.figlet_format('Javascript',font='slant')\n",
    "print(text2)"
   ]
  },
  {
   "cell_type": "markdown",
   "id": "a055c3a5-7b80-49c9-8beb-5a58e44ddf6a",
   "metadata": {},
   "source": [
    "#### Draw font figure with different style --- 3"
   ]
  },
  {
   "cell_type": "code",
   "execution_count": 5,
   "id": "f2d22b26-4510-45d8-a6be-d85979a61dc6",
   "metadata": {
    "tags": []
   },
   "outputs": [
    {
     "name": "stdout",
     "output_type": "stream",
     "text": [
      "  ********   *******    **      \n",
      " **//////   **/////**  /**      \n",
      "/**        **     //** /**      \n",
      "/*********/**      /** /**      \n",
      "////////**/**    **/** /**      \n",
      "       /**//**  // **  /**      \n",
      " ********  //******* **/********\n",
      "////////    /////// // //////// \n",
      "\n"
     ]
    }
   ],
   "source": [
    "text3=pyfiglet.figlet_format('SQL',font='3-d')\n",
    "print(text3)"
   ]
  },
  {
   "cell_type": "markdown",
   "id": "d1f1e4b9-ced5-4580-a902-42b15524c2b9",
   "metadata": {},
   "source": [
    "#### Draw font figure with different style --- 4"
   ]
  },
  {
   "cell_type": "code",
   "execution_count": 6,
   "id": "7929584b-7c81-4f04-b652-13f2f2ae5d54",
   "metadata": {
    "tags": []
   },
   "outputs": [
    {
     "name": "stdout",
     "output_type": "stream",
     "text": [
      "                       \n",
      "                       \n",
      "    //   ) )   __/__/_ \n",
      "   //         __/__/_  \n",
      "  //           /  /    \n",
      " //                    \n",
      "((____/ /              \n",
      "\n"
     ]
    }
   ],
   "source": [
    "text4=pyfiglet.figlet_format('C#',font='5lineoblique')\n",
    "print(text4)"
   ]
  },
  {
   "cell_type": "markdown",
   "id": "0a61f4d2-1677-46b1-bb82-f88a528e2141",
   "metadata": {},
   "source": [
    "#### Draw font figure with different style --- 5"
   ]
  },
  {
   "cell_type": "code",
   "execution_count": 7,
   "id": "f18096ba-8a8d-4b97-aa52-3e9990f3487d",
   "metadata": {
    "tags": []
   },
   "outputs": [
    {
     "name": "stdout",
     "output_type": "stream",
     "text": [
      "H  H PPPP  \n",
      "H  H P   P \n",
      "HHHH PPPP  \n",
      "H  H P     \n",
      "H  H P     \n",
      "           \n",
      "           \n",
      "\n"
     ]
    }
   ],
   "source": [
    "text5=pyfiglet.figlet_format('HP',font='alphabet')\n",
    "print(text5)"
   ]
  },
  {
   "cell_type": "markdown",
   "id": "693f72db-99de-495e-b2f5-7d488153ccb8",
   "metadata": {},
   "source": [
    "#### Draw font figure with different style --- 6"
   ]
  },
  {
   "cell_type": "code",
   "execution_count": 8,
   "id": "c9ddfbac-dfa5-49a3-93ba-1716380efd8a",
   "metadata": {
    "tags": []
   },
   "outputs": [
    {
     "name": "stdout",
     "output_type": "stream",
     "text": [
      "                                                                        \n",
      "                                                                        \n",
      "               AAA                                                      \n",
      "              A:::A                                                     \n",
      "             A:::::A                                                    \n",
      "            A:::::::A                                                   \n",
      "           A:::::::::A          ppppp   ppppppppp   ppppp   ppppppppp   \n",
      "          A:::::A:::::A         p::::ppp:::::::::p  p::::ppp:::::::::p  \n",
      "         A:::::A A:::::A        p:::::::::::::::::p p:::::::::::::::::p \n",
      "        A:::::A   A:::::A       pp::::::ppppp::::::ppp::::::ppppp::::::p\n",
      "       A:::::A     A:::::A       p:::::p     p:::::p p:::::p     p:::::p\n",
      "      A:::::AAAAAAAAA:::::A      p:::::p     p:::::p p:::::p     p:::::p\n",
      "     A:::::::::::::::::::::A     p:::::p     p:::::p p:::::p     p:::::p\n",
      "    A:::::AAAAAAAAAAAAA:::::A    p:::::p    p::::::p p:::::p    p::::::p\n",
      "   A:::::A             A:::::A   p:::::ppppp:::::::p p:::::ppppp:::::::p\n",
      "  A:::::A               A:::::A  p::::::::::::::::p  p::::::::::::::::p \n",
      " A:::::A                 A:::::A p::::::::::::::pp   p::::::::::::::pp  \n",
      "AAAAAAA                   AAAAAAAp::::::pppppppp     p::::::pppppppp    \n",
      "                                 p:::::p             p:::::p            \n",
      "                                 p:::::p             p:::::p            \n",
      "                                p:::::::p           p:::::::p           \n",
      "                                p:::::::p           p:::::::p           \n",
      "                                p:::::::p           p:::::::p           \n",
      "                                ppppppppp           ppppppppp           \n",
      "                                                                        \n",
      "                            \n",
      "                            \n",
      "lllllll                     \n",
      "l:::::l                     \n",
      "l:::::l                     \n",
      "l:::::l                     \n",
      " l::::l     eeeeeeeeeeee    \n",
      " l::::l   ee::::::::::::ee  \n",
      " l::::l  e::::::eeeee:::::ee\n",
      " l::::l e::::::e     e:::::e\n",
      " l::::l e:::::::eeeee::::::e\n",
      " l::::l e:::::::::::::::::e \n",
      " l::::l e::::::eeeeeeeeeee  \n",
      " l::::l e:::::::e           \n",
      "l::::::le::::::::e          \n",
      "l::::::l e::::::::eeeeeeee  \n",
      "l::::::l  ee:::::::::::::e  \n",
      "llllllll    eeeeeeeeeeeeee  \n",
      "                            \n",
      "                            \n",
      "                            \n",
      "                            \n",
      "                            \n",
      "                            \n",
      "                            \n",
      "\n"
     ]
    }
   ],
   "source": [
    "text6=pyfiglet.figlet_format('Apple',font='doh')\n",
    "print(text6)"
   ]
  },
  {
   "cell_type": "markdown",
   "id": "c927b38b-ad81-4a87-b8ec-2858c81d80a9",
   "metadata": {},
   "source": [
    "#### Draw font figure with different style --- 7"
   ]
  },
  {
   "cell_type": "code",
   "execution_count": 9,
   "id": "a38ce1bb-e90c-4eea-b592-19fed8c99268",
   "metadata": {
    "tags": []
   },
   "outputs": [
    {
     "name": "stdout",
     "output_type": "stream",
     "text": [
      "      ___           ___           ___     \n",
      "     /\\__\\         /\\  \\         /\\  \\    \n",
      "    /::|  |       /::\\  \\       /::\\  \\   \n",
      "   /:|:|  |      /:/\\:\\  \\     /:/\\:\\  \\  \n",
      "  /:/|:|__|__   /::\\~\\:\\  \\   /:/  \\:\\  \\ \n",
      " /:/ |::::\\__\\ /:/\\:\\ \\:\\__\\ /:/__/ \\:\\__\\\n",
      " \\/__/~~/:/  / \\/__\\:\\/:/  / \\:\\  \\  \\/__/\n",
      "       /:/  /       \\::/  /   \\:\\  \\      \n",
      "      /:/  /        /:/  /     \\:\\  \\     \n",
      "     /:/  /        /:/  /       \\:\\__\\    \n",
      "     \\/__/         \\/__/         \\/__/    \n",
      "\n"
     ]
    }
   ],
   "source": [
    "text7=pyfiglet.figlet_format('Mac',font='isometric1')\n",
    "print(text7)"
   ]
  },
  {
   "cell_type": "markdown",
   "id": "38031970-baca-4306-b726-3658e9b1d344",
   "metadata": {},
   "source": [
    "#### Draw font figure with different style --- 8"
   ]
  },
  {
   "cell_type": "code",
   "execution_count": 10,
   "id": "c8702fdc-de1b-4ff0-9d16-ceb9c7acb71c",
   "metadata": {
    "tags": []
   },
   "outputs": [
    {
     "name": "stdout",
     "output_type": "stream",
     "text": [
      "      ::::::::  ::::::::   :::  \n",
      "    :+:    :+::+:    :+:  :+:   \n",
      "   +:+       +:+    +:+  +:+    \n",
      "  +#++:++#+++#+    +:+  +#+     \n",
      "        +#++#+    +#+  +#+      \n",
      "#+#    #+##+#    #+#  #+#       \n",
      "########  ##################### \n",
      "\n"
     ]
    }
   ],
   "source": [
    "text8=pyfiglet.figlet_format('SQL',font='alligator')\n",
    "print(text8)"
   ]
  },
  {
   "cell_type": "markdown",
   "id": "eab453ca-d8e1-4e1e-89b4-d10cb9dcc554",
   "metadata": {},
   "source": [
    "#### Draw font figure with different style --- 9"
   ]
  },
  {
   "cell_type": "code",
   "execution_count": 11,
   "id": "ebbc0777-ab28-465d-be34-48eb096a73a6",
   "metadata": {
    "tags": []
   },
   "outputs": [
    {
     "name": "stdout",
     "output_type": "stream",
     "text": [
      "  _   _   _   _   _   _  \n",
      " / \\ / \\ / \\ / \\ / \\ / \\ \n",
      "( K | o | t | l | i | n )\n",
      " \\_/ \\_/ \\_/ \\_/ \\_/ \\_/ \n",
      "\n"
     ]
    }
   ],
   "source": [
    "text9=pyfiglet.figlet_format('Kotlin',font='bubble')\n",
    "print(text9)"
   ]
  },
  {
   "cell_type": "markdown",
   "id": "82875379-7fbc-4c42-9d8e-09975eb88fc9",
   "metadata": {},
   "source": [
    "#### Draw font figure with different style --- 10"
   ]
  },
  {
   "cell_type": "code",
   "execution_count": 12,
   "id": "41ba2173-3ade-4ea7-995d-ba71bf490707",
   "metadata": {
    "tags": []
   },
   "outputs": [
    {
     "name": "stdout",
     "output_type": "stream",
     "text": [
      "+-+-+-+-+-+-+\n",
      "|G|o|o|g|l|e|\n",
      "+-+-+-+-+-+-+\n",
      "\n"
     ]
    }
   ],
   "source": [
    "text10=pyfiglet.figlet_format('Google',font='digital')\n",
    "print(text10)"
   ]
  },
  {
   "cell_type": "markdown",
   "id": "cd280cba-0b35-44ad-86ff-85161ee5e86f",
   "metadata": {},
   "source": [
    "#### Draw font figure with different style --- 11"
   ]
  },
  {
   "cell_type": "code",
   "execution_count": 13,
   "id": "1c17daf9-31ab-43d9-9599-3a30b9e2577d",
   "metadata": {},
   "outputs": [
    {
     "name": "stdout",
     "output_type": "stream",
     "text": [
      "`..`.. `..   `..       `..\n",
      "`..`.    `.. `. `..   `...\n",
      "`..`.     `..`.. `.. ` `..\n",
      "`..`... `.   `..  `..  `..\n",
      "`..`.     `..`..   `.  `..\n",
      "`..`.      `.`..       `..\n",
      "`..`.... `.. `..       `..\n",
      "                          \n",
      "\n"
     ]
    }
   ],
   "source": [
    "text11=pyfiglet.figlet_format(\"IBM\",font=\"Stellar\")\n",
    "print(text11)"
   ]
  },
  {
   "cell_type": "markdown",
   "id": "5ff7d400-8860-4191-8ff5-b9936a482845",
   "metadata": {},
   "source": [
    "#### Draw font figure with different style --- 12"
   ]
  },
  {
   "cell_type": "code",
   "execution_count": 14,
   "id": "47d4e7e2-0d8b-418f-a91a-7db6120bae08",
   "metadata": {},
   "outputs": [
    {
     "name": "stdout",
     "output_type": "stream",
     "text": [
      "::::::.    :::.::::::::::::.,::::::   :::     \n",
      ";;;`;;;;,  `;;;;;;;;;;;'''';;;;''''   ;;;     \n",
      "[[[  [[[[[. '[[     [[      [[cccc    [[[     \n",
      "$$$  $$$ \"Y$c$$     $$      $$\"\"\"\"    $$'     \n",
      "888  888    Y88     88,     888oo,__ o88oo,.__\n",
      "MMM  MMM     YM     MMM     \"\"\"\"YUMMM\"\"\"\"YUMMM\n",
      "\n"
     ]
    }
   ],
   "source": [
    "text12 = pyfiglet.figlet_format(\"Intel\",font=\"cosmic\")\n",
    "print(text12)"
   ]
  },
  {
   "cell_type": "code",
   "execution_count": null,
   "id": "c69bf915-4592-472c-ae2a-206470f1d87b",
   "metadata": {},
   "outputs": [],
   "source": []
  }
 ],
 "metadata": {
  "kernelspec": {
   "display_name": "Python 3 (ipykernel)",
   "language": "python",
   "name": "python3"
  },
  "language_info": {
   "codemirror_mode": {
    "name": "ipython",
    "version": 3
   },
   "file_extension": ".py",
   "mimetype": "text/x-python",
   "name": "python",
   "nbconvert_exporter": "python",
   "pygments_lexer": "ipython3",
   "version": "3.12.6"
  }
 },
 "nbformat": 4,
 "nbformat_minor": 5
}
