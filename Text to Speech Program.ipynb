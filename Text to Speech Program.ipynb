{
 "cells": [
  {
   "cell_type": "markdown",
   "id": "feb46d21-fa9b-4a75-a604-f3b854350114",
   "metadata": {},
   "source": [
    "## <span style=\"color:brown\"><center> Random Text to Speech Program </center></span>"
   ]
  },
  {
   "cell_type": "markdown",
   "id": "8c8e70f3-68d6-46e5-93ff-ed9a13b89a54",
   "metadata": {},
   "source": [
    "### Install pyttsx3 for text to speech"
   ]
  },
  {
   "cell_type": "code",
   "execution_count": null,
   "id": "be922194-12c8-44dd-8222-2aa8bbf451d9",
   "metadata": {},
   "outputs": [],
   "source": [
    "pip install pyttsx3"
   ]
  },
  {
   "cell_type": "markdown",
   "id": "ee90d7e7-2a1d-41e2-b559-66f583037dce",
   "metadata": {},
   "source": [
    "### Import pyttsx3 module"
   ]
  },
  {
   "cell_type": "code",
   "execution_count": 1,
   "id": "29eb3f21-5f84-4ebe-97e0-8cfeb95f60b8",
   "metadata": {},
   "outputs": [],
   "source": [
    "import pyttsx3"
   ]
  },
  {
   "cell_type": "markdown",
   "id": "8275e269-75bc-46ab-8d4c-4a942b4eba62",
   "metadata": {},
   "source": [
    "### Initialize the speech engine"
   ]
  },
  {
   "cell_type": "code",
   "execution_count": 2,
   "id": "be3a88f5-a6b1-45ab-960b-0d0739d5c948",
   "metadata": {},
   "outputs": [],
   "source": [
    "assistant=pyttsx3.init()"
   ]
  },
  {
   "cell_type": "markdown",
   "id": "f609ac9b-bb56-473b-8586-b168cb33b5ac",
   "metadata": {},
   "source": [
    "### Set the speed of speech"
   ]
  },
  {
   "cell_type": "code",
   "execution_count": 3,
   "id": "4049f6de-318f-4d2e-8dcd-274064a642a9",
   "metadata": {},
   "outputs": [
    {
     "name": "stdout",
     "output_type": "stream",
     "text": [
      "200\n"
     ]
    }
   ],
   "source": [
    "rate=assistant.getProperty('rate') # check current speed\n",
    "print(rate)   # print current speed\n",
    "assistant.setProperty('rate', 130)"
   ]
  },
  {
   "cell_type": "markdown",
   "id": "b78207f2-01f9-4d8b-b1c2-cb01daa3e978",
   "metadata": {},
   "source": [
    "### Set the volume of speech"
   ]
  },
  {
   "cell_type": "code",
   "execution_count": 4,
   "id": "1a7e2b0c-d1c9-450c-ade2-0ae4999bce83",
   "metadata": {},
   "outputs": [
    {
     "name": "stdout",
     "output_type": "stream",
     "text": [
      "1.0\n"
     ]
    }
   ],
   "source": [
    "volume=assistant.getProperty('volume') # check current volume\n",
    "print(volume)  # print current volume\n",
    "assistant.setProperty('volume', 0.8)"
   ]
  },
  {
   "cell_type": "markdown",
   "id": "b8b8eb16-cae2-4873-a9a1-15a38d094936",
   "metadata": {},
   "source": [
    "### Set the voice of speech"
   ]
  },
  {
   "cell_type": "code",
   "execution_count": 5,
   "id": "e5a6c6fb-c7a3-4136-9796-290d4e7c6428",
   "metadata": {},
   "outputs": [
    {
     "name": "stdout",
     "output_type": "stream",
     "text": [
      "[<pyttsx3.voice.Voice object at 0x0000028187C65BE0>, <pyttsx3.voice.Voice object at 0x0000028187D351C0>]\n"
     ]
    }
   ],
   "source": [
    "voices=assistant.getProperty('voices') # check current voice type\n",
    "print(voices)  # print current voice"
   ]
  },
  {
   "cell_type": "markdown",
   "id": "4ff910e9-c1c6-4975-ba47-17b824a40738",
   "metadata": {},
   "source": [
    "#### Female voice"
   ]
  },
  {
   "cell_type": "code",
   "execution_count": 6,
   "id": "978141f8-0bc8-49c7-be16-7656f7ceadf0",
   "metadata": {},
   "outputs": [],
   "source": [
    "assistant.setProperty('voice', voices[1].id) # 1 for female"
   ]
  },
  {
   "cell_type": "markdown",
   "id": "4299e475-965f-4842-a528-dc7ed6b7b7a7",
   "metadata": {},
   "source": [
    "#### Male voice"
   ]
  },
  {
   "cell_type": "code",
   "execution_count": null,
   "id": "9efc6e8b-657f-402d-bbdf-1fa403b053db",
   "metadata": {},
   "outputs": [],
   "source": [
    "assistant.setProperty('voice', voices[0].id) # 0 for male"
   ]
  },
  {
   "cell_type": "markdown",
   "id": "bdfd61a9-7b07-415d-8aac-db2365676810",
   "metadata": {},
   "source": [
    "### Generate random text for speech"
   ]
  },
  {
   "cell_type": "markdown",
   "id": "b6daf59d-4b60-42dc-99a9-59d6134125ee",
   "metadata": {},
   "source": [
    "#### Install lorem module to generate random text"
   ]
  },
  {
   "cell_type": "code",
   "execution_count": null,
   "id": "6df3a2c3-2ca8-4a81-ac6f-a0c86f12c062",
   "metadata": {},
   "outputs": [],
   "source": [
    "pip install lorem"
   ]
  },
  {
   "cell_type": "markdown",
   "id": "c5644f41-def0-4d8f-b72c-a6c79b676c79",
   "metadata": {},
   "source": [
    "#### Import lorem module and generate a random text paragraph using lorem"
   ]
  },
  {
   "cell_type": "code",
   "execution_count": 7,
   "id": "f3409917-6361-42c2-be92-a7a89fffaefe",
   "metadata": {},
   "outputs": [
    {
     "name": "stdout",
     "output_type": "stream",
     "text": [
      "Random Text: Sed aliquam neque numquam voluptatem consectetur etincidunt magnam. Etincidunt ut aliquam consectetur voluptatem adipisci. Ut sit magnam non quisquam voluptatem quiquia. Tempora quiquia modi sit magnam etincidunt neque. Eius amet neque tempora neque. Numquam voluptatem eius eius dolorem magnam.\n"
     ]
    }
   ],
   "source": [
    "import lorem\n",
    "# Generate random text\n",
    "random_text = lorem.paragraph()  # generate random paragraph\n",
    "# Output the random text (just for checking)\n",
    "print(f\"Random Text: {random_text}\")"
   ]
  },
  {
   "cell_type": "markdown",
   "id": "a72e52d1-c84b-40c1-b43b-b9de7d307fef",
   "metadata": {},
   "source": [
    "### Pass the generated text to the say() method to speak it"
   ]
  },
  {
   "cell_type": "code",
   "execution_count": 8,
   "id": "13feda7f-caf3-4ba8-ba04-51eba6708180",
   "metadata": {},
   "outputs": [],
   "source": [
    "assistant.say(random_text)"
   ]
  },
  {
   "cell_type": "markdown",
   "id": "78ebf7ef-9bb6-4158-89d7-cd56f2907542",
   "metadata": {},
   "source": [
    "### Finally run the speech engine"
   ]
  },
  {
   "cell_type": "code",
   "execution_count": 9,
   "id": "60722ba0-8b77-4b6a-beda-a2c9ab04aad2",
   "metadata": {},
   "outputs": [],
   "source": [
    "assistant.runAndWait()"
   ]
  },
  {
   "cell_type": "code",
   "execution_count": null,
   "id": "225f34b7-4078-4b9d-b846-5ae73287fc31",
   "metadata": {},
   "outputs": [],
   "source": []
  }
 ],
 "metadata": {
  "kernelspec": {
   "display_name": "Python 3 (ipykernel)",
   "language": "python",
   "name": "python3"
  },
  "language_info": {
   "codemirror_mode": {
    "name": "ipython",
    "version": 3
   },
   "file_extension": ".py",
   "mimetype": "text/x-python",
   "name": "python",
   "nbconvert_exporter": "python",
   "pygments_lexer": "ipython3",
   "version": "3.12.6"
  }
 },
 "nbformat": 4,
 "nbformat_minor": 5
}
